{
 "cells": [
  {
   "cell_type": "markdown",
   "id": "69067e6c",
   "metadata": {},
   "source": [
    "# Project: Energy Demand Forecasting Using LSTM Neural Networks\n",
    "### Description:\n",
    "This project builds an LSTM-based deep learning model to forecast household energy consumption using historical power usage data. \n",
    "\n",
    "The time series is preprocessed with resampling and normalization, and the model is tuned to improve accuracy in predicting short-term energy demand.\n",
    "- Framework: TensorFlow / Keras  \n",
    "- Architecture:  LSTM \n",
    "- Dataset: CSV file (`household_power_consumption.txt`)   https://archive.ics.uci.edu/dataset/235/individual+household+electric+power+consumption\n",
    "- Goal: Predicting short-term energy demand for a household."
   ]
  },
  {
   "cell_type": "code",
   "execution_count": 33,
   "id": "467429bd",
   "metadata": {},
   "outputs": [],
   "source": [
    "# import necessary modules\n",
    "import numpy as np\n",
    "import pandas as pd\n",
    "import matplotlib.pyplot as plt\n",
    "\n",
    "from sklearn.preprocessing import MinMaxScaler\n",
    "from sklearn.metrics import r2_score, mean_absolute_error\n",
    "\n",
    "from tensorflow.keras.models import Sequential\n",
    "from tensorflow.keras.layers import LSTM, Dropout, Dense\n",
    "from tensorflow.keras.optimizers import Adam\n",
    "from tensorflow.keras.callbacks import EarlyStopping\n",
    "import keras_tuner as kt"
   ]
  },
  {
   "cell_type": "code",
   "execution_count": 34,
   "id": "9300b5a4",
   "metadata": {},
   "outputs": [
    {
     "name": "stdout",
     "output_type": "stream",
     "text": [
      "Data shape: (2075259, 9)\n"
     ]
    },
    {
     "data": {
      "text/html": [
       "<div>\n",
       "<style scoped>\n",
       "    .dataframe tbody tr th:only-of-type {\n",
       "        vertical-align: middle;\n",
       "    }\n",
       "\n",
       "    .dataframe tbody tr th {\n",
       "        vertical-align: top;\n",
       "    }\n",
       "\n",
       "    .dataframe thead th {\n",
       "        text-align: right;\n",
       "    }\n",
       "</style>\n",
       "<table border=\"1\" class=\"dataframe\">\n",
       "  <thead>\n",
       "    <tr style=\"text-align: right;\">\n",
       "      <th></th>\n",
       "      <th>Date</th>\n",
       "      <th>Time</th>\n",
       "      <th>Global_active_power</th>\n",
       "      <th>Global_reactive_power</th>\n",
       "      <th>Voltage</th>\n",
       "      <th>Global_intensity</th>\n",
       "      <th>Sub_metering_1</th>\n",
       "      <th>Sub_metering_2</th>\n",
       "      <th>Sub_metering_3</th>\n",
       "    </tr>\n",
       "  </thead>\n",
       "  <tbody>\n",
       "    <tr>\n",
       "      <th>0</th>\n",
       "      <td>16/12/2006</td>\n",
       "      <td>17:24:00</td>\n",
       "      <td>4.216</td>\n",
       "      <td>0.418</td>\n",
       "      <td>234.84</td>\n",
       "      <td>18.4</td>\n",
       "      <td>0.0</td>\n",
       "      <td>1.0</td>\n",
       "      <td>17.0</td>\n",
       "    </tr>\n",
       "    <tr>\n",
       "      <th>1</th>\n",
       "      <td>16/12/2006</td>\n",
       "      <td>17:25:00</td>\n",
       "      <td>5.360</td>\n",
       "      <td>0.436</td>\n",
       "      <td>233.63</td>\n",
       "      <td>23.0</td>\n",
       "      <td>0.0</td>\n",
       "      <td>1.0</td>\n",
       "      <td>16.0</td>\n",
       "    </tr>\n",
       "    <tr>\n",
       "      <th>2</th>\n",
       "      <td>16/12/2006</td>\n",
       "      <td>17:26:00</td>\n",
       "      <td>5.374</td>\n",
       "      <td>0.498</td>\n",
       "      <td>233.29</td>\n",
       "      <td>23.0</td>\n",
       "      <td>0.0</td>\n",
       "      <td>2.0</td>\n",
       "      <td>17.0</td>\n",
       "    </tr>\n",
       "    <tr>\n",
       "      <th>3</th>\n",
       "      <td>16/12/2006</td>\n",
       "      <td>17:27:00</td>\n",
       "      <td>5.388</td>\n",
       "      <td>0.502</td>\n",
       "      <td>233.74</td>\n",
       "      <td>23.0</td>\n",
       "      <td>0.0</td>\n",
       "      <td>1.0</td>\n",
       "      <td>17.0</td>\n",
       "    </tr>\n",
       "    <tr>\n",
       "      <th>4</th>\n",
       "      <td>16/12/2006</td>\n",
       "      <td>17:28:00</td>\n",
       "      <td>3.666</td>\n",
       "      <td>0.528</td>\n",
       "      <td>235.68</td>\n",
       "      <td>15.8</td>\n",
       "      <td>0.0</td>\n",
       "      <td>1.0</td>\n",
       "      <td>17.0</td>\n",
       "    </tr>\n",
       "  </tbody>\n",
       "</table>\n",
       "</div>"
      ],
      "text/plain": [
       "         Date      Time  Global_active_power  Global_reactive_power  Voltage  \\\n",
       "0  16/12/2006  17:24:00                4.216                  0.418   234.84   \n",
       "1  16/12/2006  17:25:00                5.360                  0.436   233.63   \n",
       "2  16/12/2006  17:26:00                5.374                  0.498   233.29   \n",
       "3  16/12/2006  17:27:00                5.388                  0.502   233.74   \n",
       "4  16/12/2006  17:28:00                3.666                  0.528   235.68   \n",
       "\n",
       "   Global_intensity  Sub_metering_1  Sub_metering_2  Sub_metering_3  \n",
       "0              18.4             0.0             1.0            17.0  \n",
       "1              23.0             0.0             1.0            16.0  \n",
       "2              23.0             0.0             2.0            17.0  \n",
       "3              23.0             0.0             1.0            17.0  \n",
       "4              15.8             0.0             1.0            17.0  "
      ]
     },
     "execution_count": 34,
     "metadata": {},
     "output_type": "execute_result"
    }
   ],
   "source": [
    "# reda data, displaying data shape and first 5 rows\n",
    "data = pd.read_csv(\"household_power_consumption.txt\", sep=\";\", low_memory=False, na_values=\"?\")\n",
    "print(f\"Data shape: {data.shape}\")\n",
    "data.head()"
   ]
  },
  {
   "cell_type": "code",
   "execution_count": 35,
   "id": "241c15e2",
   "metadata": {},
   "outputs": [
    {
     "data": {
      "text/html": [
       "<div>\n",
       "<style scoped>\n",
       "    .dataframe tbody tr th:only-of-type {\n",
       "        vertical-align: middle;\n",
       "    }\n",
       "\n",
       "    .dataframe tbody tr th {\n",
       "        vertical-align: top;\n",
       "    }\n",
       "\n",
       "    .dataframe thead th {\n",
       "        text-align: right;\n",
       "    }\n",
       "</style>\n",
       "<table border=\"1\" class=\"dataframe\">\n",
       "  <thead>\n",
       "    <tr style=\"text-align: right;\">\n",
       "      <th></th>\n",
       "      <th>Global_active_power</th>\n",
       "      <th>Global_reactive_power</th>\n",
       "      <th>Voltage</th>\n",
       "      <th>Global_intensity</th>\n",
       "      <th>Sub_metering_1</th>\n",
       "      <th>Sub_metering_2</th>\n",
       "      <th>Sub_metering_3</th>\n",
       "    </tr>\n",
       "    <tr>\n",
       "      <th>datetime</th>\n",
       "      <th></th>\n",
       "      <th></th>\n",
       "      <th></th>\n",
       "      <th></th>\n",
       "      <th></th>\n",
       "      <th></th>\n",
       "      <th></th>\n",
       "    </tr>\n",
       "  </thead>\n",
       "  <tbody>\n",
       "    <tr>\n",
       "      <th>2006-12-16 17:24:00</th>\n",
       "      <td>4.216</td>\n",
       "      <td>0.418</td>\n",
       "      <td>234.84</td>\n",
       "      <td>18.4</td>\n",
       "      <td>0.0</td>\n",
       "      <td>1.0</td>\n",
       "      <td>17.0</td>\n",
       "    </tr>\n",
       "    <tr>\n",
       "      <th>2006-12-16 17:25:00</th>\n",
       "      <td>5.360</td>\n",
       "      <td>0.436</td>\n",
       "      <td>233.63</td>\n",
       "      <td>23.0</td>\n",
       "      <td>0.0</td>\n",
       "      <td>1.0</td>\n",
       "      <td>16.0</td>\n",
       "    </tr>\n",
       "    <tr>\n",
       "      <th>2006-12-16 17:26:00</th>\n",
       "      <td>5.374</td>\n",
       "      <td>0.498</td>\n",
       "      <td>233.29</td>\n",
       "      <td>23.0</td>\n",
       "      <td>0.0</td>\n",
       "      <td>2.0</td>\n",
       "      <td>17.0</td>\n",
       "    </tr>\n",
       "    <tr>\n",
       "      <th>2006-12-16 17:27:00</th>\n",
       "      <td>5.388</td>\n",
       "      <td>0.502</td>\n",
       "      <td>233.74</td>\n",
       "      <td>23.0</td>\n",
       "      <td>0.0</td>\n",
       "      <td>1.0</td>\n",
       "      <td>17.0</td>\n",
       "    </tr>\n",
       "    <tr>\n",
       "      <th>2006-12-16 17:28:00</th>\n",
       "      <td>3.666</td>\n",
       "      <td>0.528</td>\n",
       "      <td>235.68</td>\n",
       "      <td>15.8</td>\n",
       "      <td>0.0</td>\n",
       "      <td>1.0</td>\n",
       "      <td>17.0</td>\n",
       "    </tr>\n",
       "  </tbody>\n",
       "</table>\n",
       "</div>"
      ],
      "text/plain": [
       "                     Global_active_power  Global_reactive_power  Voltage  \\\n",
       "datetime                                                                   \n",
       "2006-12-16 17:24:00                4.216                  0.418   234.84   \n",
       "2006-12-16 17:25:00                5.360                  0.436   233.63   \n",
       "2006-12-16 17:26:00                5.374                  0.498   233.29   \n",
       "2006-12-16 17:27:00                5.388                  0.502   233.74   \n",
       "2006-12-16 17:28:00                3.666                  0.528   235.68   \n",
       "\n",
       "                     Global_intensity  Sub_metering_1  Sub_metering_2  \\\n",
       "datetime                                                                \n",
       "2006-12-16 17:24:00              18.4             0.0             1.0   \n",
       "2006-12-16 17:25:00              23.0             0.0             1.0   \n",
       "2006-12-16 17:26:00              23.0             0.0             2.0   \n",
       "2006-12-16 17:27:00              23.0             0.0             1.0   \n",
       "2006-12-16 17:28:00              15.8             0.0             1.0   \n",
       "\n",
       "                     Sub_metering_3  \n",
       "datetime                             \n",
       "2006-12-16 17:24:00            17.0  \n",
       "2006-12-16 17:25:00            16.0  \n",
       "2006-12-16 17:26:00            17.0  \n",
       "2006-12-16 17:27:00            17.0  \n",
       "2006-12-16 17:28:00            17.0  "
      ]
     },
     "execution_count": 35,
     "metadata": {},
     "output_type": "execute_result"
    }
   ],
   "source": [
    "# Combine Date and Time columns\n",
    "data['datetime'] = pd.to_datetime(data['Date'] + ' ' + data['Time'], dayfirst=True, format='%d/%m/%Y %H:%M:%S')\n",
    "\n",
    "# Drop original Date and Time columns\n",
    "data = data.drop(columns=['Date', 'Time'])\n",
    "\n",
    "# Set datetime as index\n",
    "data = data.set_index('datetime')\n",
    "\n",
    "data.head()"
   ]
  },
  {
   "cell_type": "code",
   "execution_count": 36,
   "id": "7a28f326",
   "metadata": {},
   "outputs": [
    {
     "name": "stdout",
     "output_type": "stream",
     "text": [
      "<class 'pandas.core.frame.DataFrame'>\n",
      "DatetimeIndex: 2075259 entries, 2006-12-16 17:24:00 to 2010-11-26 21:02:00\n",
      "Data columns (total 7 columns):\n",
      " #   Column                 Dtype  \n",
      "---  ------                 -----  \n",
      " 0   Global_active_power    float64\n",
      " 1   Global_reactive_power  float64\n",
      " 2   Voltage                float64\n",
      " 3   Global_intensity       float64\n",
      " 4   Sub_metering_1         float64\n",
      " 5   Sub_metering_2         float64\n",
      " 6   Sub_metering_3         float64\n",
      "dtypes: float64(7)\n",
      "memory usage: 126.7 MB\n"
     ]
    }
   ],
   "source": [
    "# display data summary\n",
    "data.info()"
   ]
  },
  {
   "cell_type": "markdown",
   "id": "4750364c",
   "metadata": {},
   "source": [
    "There are 2M+ rows containing data as floating point values"
   ]
  },
  {
   "cell_type": "code",
   "execution_count": 37,
   "id": "d5a8568c",
   "metadata": {},
   "outputs": [
    {
     "name": "stdout",
     "output_type": "stream",
     "text": [
      "Data shape: (34589, 1)\n"
     ]
    },
    {
     "data": {
      "text/html": [
       "<div>\n",
       "<style scoped>\n",
       "    .dataframe tbody tr th:only-of-type {\n",
       "        vertical-align: middle;\n",
       "    }\n",
       "\n",
       "    .dataframe tbody tr th {\n",
       "        vertical-align: top;\n",
       "    }\n",
       "\n",
       "    .dataframe thead th {\n",
       "        text-align: right;\n",
       "    }\n",
       "</style>\n",
       "<table border=\"1\" class=\"dataframe\">\n",
       "  <thead>\n",
       "    <tr style=\"text-align: right;\">\n",
       "      <th></th>\n",
       "      <th>Global_active_power</th>\n",
       "    </tr>\n",
       "    <tr>\n",
       "      <th>datetime</th>\n",
       "      <th></th>\n",
       "    </tr>\n",
       "  </thead>\n",
       "  <tbody>\n",
       "    <tr>\n",
       "      <th>2006-12-16 17:00:00</th>\n",
       "      <td>4.222889</td>\n",
       "    </tr>\n",
       "    <tr>\n",
       "      <th>2006-12-16 18:00:00</th>\n",
       "      <td>3.632200</td>\n",
       "    </tr>\n",
       "    <tr>\n",
       "      <th>2006-12-16 19:00:00</th>\n",
       "      <td>3.400233</td>\n",
       "    </tr>\n",
       "    <tr>\n",
       "      <th>2006-12-16 20:00:00</th>\n",
       "      <td>3.268567</td>\n",
       "    </tr>\n",
       "    <tr>\n",
       "      <th>2006-12-16 21:00:00</th>\n",
       "      <td>3.056467</td>\n",
       "    </tr>\n",
       "  </tbody>\n",
       "</table>\n",
       "</div>"
      ],
      "text/plain": [
       "                     Global_active_power\n",
       "datetime                                \n",
       "2006-12-16 17:00:00             4.222889\n",
       "2006-12-16 18:00:00             3.632200\n",
       "2006-12-16 19:00:00             3.400233\n",
       "2006-12-16 20:00:00             3.268567\n",
       "2006-12-16 21:00:00             3.056467"
      ]
     },
     "execution_count": 37,
     "metadata": {},
     "output_type": "execute_result"
    }
   ],
   "source": [
    "# Keep only Global_active_power \n",
    "df = data[['Global_active_power']]\n",
    "\n",
    "# Resample to hourly to reduce data size and generalize more\n",
    "df = df.resample('h').mean()\n",
    "\n",
    "# Fill missing values with interpolation\n",
    "df = df.interpolate()\n",
    "\n",
    "print(f\"Data shape: {df.shape}\")\n",
    "df.head()"
   ]
  },
  {
   "cell_type": "markdown",
   "id": "960f8f15",
   "metadata": {},
   "source": [
    "We left from 2M+ rows to 34k+"
   ]
  },
  {
   "cell_type": "markdown",
   "id": "592145cd",
   "metadata": {},
   "source": [
    "## Data Preprocessing"
   ]
  },
  {
   "cell_type": "code",
   "execution_count": 38,
   "id": "f3705e67",
   "metadata": {},
   "outputs": [
    {
     "data": {
      "text/plain": [
       "array([[0.63681623],\n",
       "       [0.54504495],\n",
       "       [0.50900588],\n",
       "       [0.48854974],\n",
       "       [0.45559722]])"
      ]
     },
     "execution_count": 38,
     "metadata": {},
     "output_type": "execute_result"
    }
   ],
   "source": [
    "# convert data to numpy array\n",
    "data_array = df[\"Global_active_power\"].values\n",
    "# reshape array to (num_samples, 1)\n",
    "data_array = data_array.reshape(-1, 1)\n",
    "\n",
    "# scale values\n",
    "scaler = MinMaxScaler()\n",
    "data_array = scaler.fit_transform(data_array)\n",
    "\n",
    "data_array[:5]"
   ]
  },
  {
   "cell_type": "markdown",
   "id": "261411d4",
   "metadata": {},
   "source": [
    "#### Create Sequence for LSTM from data"
   ]
  },
  {
   "cell_type": "code",
   "execution_count": 39,
   "id": "b6acc857",
   "metadata": {},
   "outputs": [],
   "source": [
    "# define function to create sequence\n",
    "def create_sequences(data, period_size=24):\n",
    "    \"\"\"Function gets an array and a desired period_size as input and returns sequences of the array split by the peroid size.\n",
    "       default period size is 24, for daily.\n",
    "    \"\"\"\n",
    "    X, y = [], []\n",
    "    for i in range(len(data) - period_size):\n",
    "        X.append(data[i:i+period_size])\n",
    "        y.append(data[i+period_size])\n",
    "    return np.array(X), np.array(y)"
   ]
  },
  {
   "cell_type": "code",
   "execution_count": 40,
   "id": "a41601a1",
   "metadata": {},
   "outputs": [
    {
     "name": "stdout",
     "output_type": "stream",
     "text": [
      "X shape: (34565, 24, 1)\n",
      "y shape: (34565, 1)\n"
     ]
    }
   ],
   "source": [
    "# create sequences\n",
    "X, y = create_sequences(data_array)\n",
    "\n",
    "# final shape\n",
    "print(\"X shape:\", X.shape) \n",
    "print(\"y shape:\", y.shape) "
   ]
  },
  {
   "cell_type": "markdown",
   "id": "cca75aba",
   "metadata": {},
   "source": [
    "### Split data into training and testing sets"
   ]
  },
  {
   "cell_type": "code",
   "execution_count": 41,
   "id": "d0f6b3ce",
   "metadata": {},
   "outputs": [
    {
     "name": "stdout",
     "output_type": "stream",
     "text": [
      "Train: (24195, 24, 1)\n",
      "Val:   (5184, 24, 1)\n",
      "Test:  (5186, 24, 1)\n"
     ]
    }
   ],
   "source": [
    "# Full dataset size\n",
    "total_samples = len(X)\n",
    "\n",
    "# Split indices\n",
    "train_size = int(0.7 * total_samples)\n",
    "val_size = int(0.15 * total_samples)\n",
    "\n",
    "# Create splits \n",
    "X_train = X[:train_size]\n",
    "y_train = y[:train_size]\n",
    "\n",
    "X_val = X[train_size:train_size + val_size]\n",
    "y_val = y[train_size:train_size + val_size]\n",
    "\n",
    "X_test = X[train_size + val_size:]\n",
    "y_test = y[train_size + val_size:]\n",
    "\n",
    "print(f\"Train: {X_train.shape}\")\n",
    "print(f\"Val:   {X_val.shape}\")\n",
    "print(f\"Test:  {X_test.shape}\")\n"
   ]
  },
  {
   "cell_type": "markdown",
   "id": "13bbf9f6",
   "metadata": {},
   "source": [
    "## Build and Train Model"
   ]
  },
  {
   "cell_type": "code",
   "execution_count": 42,
   "id": "7f01d7cf",
   "metadata": {},
   "outputs": [
    {
     "name": "stdout",
     "output_type": "stream",
     "text": [
      "Model: \"sequential_1\"\n",
      "_________________________________________________________________\n",
      " Layer (type)                Output Shape              Param #   \n",
      "=================================================================\n",
      " lstm_2 (LSTM)               (None, 64)                16896     \n",
      "                                                                 \n",
      " dropout_1 (Dropout)         (None, 64)                0         \n",
      "                                                                 \n",
      " dense_1 (Dense)             (None, 1)                 65        \n",
      "                                                                 \n",
      "=================================================================\n",
      "Total params: 16,961\n",
      "Trainable params: 16,961\n",
      "Non-trainable params: 0\n",
      "_________________________________________________________________\n"
     ]
    }
   ],
   "source": [
    "# define model architecture\n",
    "lstm_model = Sequential([\n",
    "    LSTM(64, input_shape=(X_train.shape[1], X_train.shape[2]), return_sequences=False),\n",
    "    Dropout(0.2),\n",
    "    Dense(1)\n",
    "])\n",
    "\n",
    "# compile model\n",
    "lstm_model.compile(loss=\"mse\", optimizer=Adam(0.001))\n",
    "lstm_model.summary()"
   ]
  },
  {
   "cell_type": "code",
   "execution_count": 43,
   "id": "21f38efe",
   "metadata": {},
   "outputs": [
    {
     "name": "stdout",
     "output_type": "stream",
     "text": [
      "Epoch 1/50\n",
      "757/757 [==============================] - 5s 6ms/step - loss: 0.0119 - val_loss: 0.0069\n",
      "Epoch 2/50\n",
      "757/757 [==============================] - 3s 4ms/step - loss: 0.0099 - val_loss: 0.0064\n",
      "Epoch 3/50\n",
      "757/757 [==============================] - 3s 4ms/step - loss: 0.0094 - val_loss: 0.0060\n",
      "Epoch 4/50\n",
      "757/757 [==============================] - 3s 3ms/step - loss: 0.0092 - val_loss: 0.0059\n",
      "Epoch 5/50\n",
      "757/757 [==============================] - 3s 3ms/step - loss: 0.0090 - val_loss: 0.0059\n",
      "Epoch 6/50\n",
      "757/757 [==============================] - 3s 3ms/step - loss: 0.0089 - val_loss: 0.0059\n",
      "Epoch 7/50\n",
      "757/757 [==============================] - 3s 4ms/step - loss: 0.0089 - val_loss: 0.0059\n",
      "Epoch 8/50\n",
      "757/757 [==============================] - 3s 4ms/step - loss: 0.0088 - val_loss: 0.0060\n",
      "Epoch 9/50\n",
      "757/757 [==============================] - 3s 3ms/step - loss: 0.0088 - val_loss: 0.0058\n",
      "Epoch 10/50\n",
      "757/757 [==============================] - 3s 3ms/step - loss: 0.0088 - val_loss: 0.0058\n",
      "Epoch 11/50\n",
      "757/757 [==============================] - 3s 3ms/step - loss: 0.0088 - val_loss: 0.0059\n",
      "Epoch 12/50\n",
      "757/757 [==============================] - 3s 3ms/step - loss: 0.0087 - val_loss: 0.0059\n",
      "Epoch 13/50\n",
      "757/757 [==============================] - 3s 3ms/step - loss: 0.0087 - val_loss: 0.0058\n",
      "Epoch 14/50\n",
      "757/757 [==============================] - 3s 3ms/step - loss: 0.0087 - val_loss: 0.0057\n",
      "Epoch 15/50\n",
      "757/757 [==============================] - 3s 4ms/step - loss: 0.0087 - val_loss: 0.0058\n",
      "Epoch 16/50\n",
      "757/757 [==============================] - 3s 3ms/step - loss: 0.0087 - val_loss: 0.0057\n",
      "Epoch 17/50\n",
      "757/757 [==============================] - 3s 3ms/step - loss: 0.0087 - val_loss: 0.0058\n",
      "Epoch 18/50\n",
      "757/757 [==============================] - 3s 3ms/step - loss: 0.0087 - val_loss: 0.0058\n",
      "Epoch 19/50\n",
      "757/757 [==============================] - 3s 3ms/step - loss: 0.0087 - val_loss: 0.0058\n"
     ]
    }
   ],
   "source": [
    "# set early stopping\n",
    "early_stop = EarlyStopping(patience=5, restore_best_weights=True)\n",
    "\n",
    "history = lstm_model.fit(\n",
    "    X_train, y_train,\n",
    "    validation_data=(X_test, y_test),\n",
    "    epochs=50,\n",
    "    batch_size=32,\n",
    "    callbacks=[early_stop]\n",
    ")"
   ]
  },
  {
   "cell_type": "markdown",
   "id": "a94e7dab",
   "metadata": {},
   "source": [
    "## Evaluate model"
   ]
  },
  {
   "cell_type": "code",
   "execution_count": 44,
   "id": "e13e6dc0",
   "metadata": {},
   "outputs": [
    {
     "name": "stdout",
     "output_type": "stream",
     "text": [
      "163/163 [==============================] - 1s 1ms/step\n",
      "MAE:  0.33 kW\n",
      "R²:   0.520\n"
     ]
    }
   ],
   "source": [
    "# Predict on test set\n",
    "y_pred = lstm_model.predict(X_test)\n",
    "\n",
    "# Inverse transform target \n",
    "y_test_inv = scaler.inverse_transform(y_test)\n",
    "y_pred_inv = scaler.inverse_transform(y_pred)\n",
    "\n",
    "# Compute metrics\n",
    "mae = mean_absolute_error(y_test_inv, y_pred_inv)\n",
    "r2 = r2_score(y_test_inv, y_pred_inv)\n",
    "\n",
    "print(f\"MAE:  {mae:.2f} kW\")\n",
    "print(f\"R²:   {r2:.3f}\")\n"
   ]
  },
  {
   "cell_type": "markdown",
   "id": "39663ef0",
   "metadata": {},
   "source": [
    "## Plot Training Curves"
   ]
  },
  {
   "cell_type": "code",
   "execution_count": 45,
   "id": "7b633689",
   "metadata": {},
   "outputs": [
    {
     "data": {
      "image/png": "[encoded data removed]",
      "text/plain": [
       "<Figure size 640x480 with 1 Axes>"
      ]
     },
     "metadata": {},
     "output_type": "display_data"
    }
   ],
   "source": [
    "plt.plot(history.history['loss'], label='Train Loss')\n",
    "plt.plot(history.history['val_loss'], label='Val Loss')\n",
    "plt.xlabel('Epoch')\n",
    "plt.ylabel('MSE')\n",
    "plt.legend()\n",
    "plt.title('Training vs Validation Loss')\n",
    "plt.show()\n"
   ]
  },
  {
   "cell_type": "markdown",
   "id": "bd54409b",
   "metadata": {},
   "source": [
    "## Attempt Hyper Parameter tuning"
   ]
  },
  {
   "cell_type": "code",
   "execution_count": 27,
   "id": "f133837f",
   "metadata": {},
   "outputs": [],
   "source": [
    "# define hyper model\n",
    "def build_model(hp):\n",
    "    model = Sequential()\n",
    "\n",
    "    use_second_lstm = hp.Boolean('use_second_lstm')\n",
    "\n",
    "    # First LSTM layer\n",
    "    model.add(LSTM(\n",
    "        units=hp.Int('units_1', min_value=32, max_value=128, step=16),\n",
    "        return_sequences=use_second_lstm,  # Only True if we're stacking another LSTM\n",
    "        input_shape=(X_train.shape[1], X_train.shape[2])\n",
    "    ))\n",
    "\n",
    "    # Optional second LSTM layer\n",
    "    if use_second_lstm:\n",
    "        model.add(LSTM(\n",
    "            units=hp.Int('units_2', min_value=32, max_value=128, step=16),\n",
    "            return_sequences=False\n",
    "        ))\n",
    "    \n",
    "    # Dropout\n",
    "    model.add(Dropout(hp.Float('dropout', min_value=0.1, max_value=0.5, step=0.1)))\n",
    "    \n",
    "    # Output\n",
    "    model.add(Dense(1))  \n",
    "\n",
    "    # Compile\n",
    "    model.compile(\n",
    "        optimizer=Adam(hp.Choice('lr', values=[1e-2, 1e-3, 1e-4])),\n",
    "        loss='mse'\n",
    "    )\n",
    "    \n",
    "    return model\n",
    "\n"
   ]
  },
  {
   "cell_type": "code",
   "execution_count": 18,
   "id": "69de8fbd",
   "metadata": {},
   "outputs": [
    {
     "name": "stdout",
     "output_type": "stream",
     "text": [
      "Trial 20 Complete [00h 02m 16s]\n",
      "val_loss: 0.0057358816266059875\n",
      "\n",
      "Best val_loss So Far: 0.005631648004055023\n",
      "Total elapsed time: 00h 40m 06s\n"
     ]
    }
   ],
   "source": [
    "# set up tuner\n",
    "tuner = kt.RandomSearch(\n",
    "    build_model,\n",
    "    objective='val_loss',\n",
    "    max_trials=20,  # how many models to try\n",
    "    executions_per_trial=1, \n",
    "    directory='lstm_tuning',\n",
    "    project_name='energy_forecast'\n",
    ")\n",
    "\n",
    "# run search\n",
    "tuner.search(X_train, y_train, \n",
    "             epochs=20, \n",
    "             validation_data=(X_test, y_test),\n",
    "             batch_size=32)\n"
   ]
  },
  {
   "cell_type": "code",
   "execution_count": 21,
   "id": "eb712318",
   "metadata": {},
   "outputs": [
    {
     "name": "stdout",
     "output_type": "stream",
     "text": [
      "WARNING:tensorflow:Detecting that an object or model or tf.train.Checkpoint is being deleted with unrestored values. See the following logs for the specific values in question. To silence these warnings, use `status.expect_partial()`. See https://www.tensorflow.org/api_docs/python/tf/train/Checkpoint#restorefor details about the status object returned by the restore function.\n",
      "WARNING:tensorflow:Value in checkpoint could not be found in the restored object: (root).optimizer.iter\n",
      "WARNING:tensorflow:Value in checkpoint could not be found in the restored object: (root).optimizer.beta_1\n",
      "WARNING:tensorflow:Value in checkpoint could not be found in the restored object: (root).optimizer.beta_2\n",
      "WARNING:tensorflow:Value in checkpoint could not be found in the restored object: (root).optimizer.decay\n",
      "WARNING:tensorflow:Value in checkpoint could not be found in the restored object: (root).optimizer.learning_rate\n",
      "Best units_1: 112\n",
      "Best units_2: 112\n",
      "Best dropout: 0.1\n",
      "Best learning rate: 0.01\n"
     ]
    }
   ],
   "source": [
    "# get best model\n",
    "best_model = tuner.get_best_models(num_models=1)[0]\n",
    "best_hps = tuner.get_best_hyperparameters(1)[0]\n",
    "\n",
    "print(f\"Best units_1: {best_hps.get('units_1')}\")\n",
    "print(f\"Best units_2: {best_hps.get('units_2')}\")\n",
    "print(f\"Best dropout: {best_hps.get('dropout')}\")\n",
    "print(f\"Best learning rate: {best_hps.get('lr')}\")\n"
   ]
  },
  {
   "cell_type": "markdown",
   "id": "8391f3a8",
   "metadata": {},
   "source": [
    "Fine tuning didn't improve model performance much as best loss wasn't very different from what we already had"
   ]
  },
  {
   "cell_type": "code",
   "execution_count": 22,
   "id": "fbe5fbc6",
   "metadata": {},
   "outputs": [
    {
     "name": "stdout",
     "output_type": "stream",
     "text": [
      "Epoch 1/50\n",
      "757/757 [==============================] - 7s 7ms/step - loss: 0.0086 - val_loss: 0.0059\n",
      "Epoch 2/50\n",
      "757/757 [==============================] - 4s 6ms/step - loss: 0.0085 - val_loss: 0.0057\n",
      "Epoch 3/50\n",
      "757/757 [==============================] - 4s 6ms/step - loss: 0.0085 - val_loss: 0.0058\n",
      "Epoch 4/50\n",
      "757/757 [==============================] - 4s 5ms/step - loss: 0.0084 - val_loss: 0.0057\n",
      "Epoch 5/50\n",
      "757/757 [==============================] - 4s 6ms/step - loss: 0.0084 - val_loss: 0.0060\n",
      "Epoch 6/50\n",
      "757/757 [==============================] - 4s 6ms/step - loss: 0.0084 - val_loss: 0.0060\n",
      "Epoch 7/50\n",
      "757/757 [==============================] - 4s 6ms/step - loss: 0.0085 - val_loss: 0.0057\n",
      "Epoch 8/50\n",
      "757/757 [==============================] - 4s 6ms/step - loss: 0.0083 - val_loss: 0.0058\n",
      "Epoch 9/50\n",
      "757/757 [==============================] - 4s 6ms/step - loss: 0.0083 - val_loss: 0.0056\n",
      "Epoch 10/50\n",
      "757/757 [==============================] - 4s 6ms/step - loss: 0.0083 - val_loss: 0.0056\n",
      "Epoch 11/50\n",
      "757/757 [==============================] - 4s 6ms/step - loss: 0.0082 - val_loss: 0.0059\n",
      "Epoch 12/50\n",
      "757/757 [==============================] - 4s 6ms/step - loss: 0.0082 - val_loss: 0.0057\n",
      "Epoch 13/50\n",
      "757/757 [==============================] - 4s 6ms/step - loss: 0.0081 - val_loss: 0.0062\n",
      "Epoch 14/50\n",
      "757/757 [==============================] - 4s 6ms/step - loss: 0.0082 - val_loss: 0.0058\n",
      "Epoch 15/50\n",
      "757/757 [==============================] - 5s 6ms/step - loss: 0.0081 - val_loss: 0.0057\n"
     ]
    }
   ],
   "source": [
    "# retrain with the best model\n",
    "early_stop = EarlyStopping(patience=5, restore_best_weights=True)\n",
    "\n",
    "history = best_model.fit(\n",
    "    X_train, y_train,\n",
    "    validation_data=(X_test, y_test),\n",
    "    epochs=50,\n",
    "    batch_size=32,\n",
    "    callbacks=[early_stop]\n",
    ")\n"
   ]
  },
  {
   "cell_type": "code",
   "execution_count": 23,
   "id": "0effc08b",
   "metadata": {},
   "outputs": [
    {
     "name": "stdout",
     "output_type": "stream",
     "text": [
      "163/163 [==============================] - 1s 3ms/step\n",
      "MAE:  0.33 kW\n",
      "R²:   0.532\n"
     ]
    }
   ],
   "source": [
    "# Predict on test set\n",
    "y_pred = best_model.predict(X_test)\n",
    "\n",
    "# Inverse transform target \n",
    "y_test_inv = scaler.inverse_transform(y_test)\n",
    "y_pred_inv = scaler.inverse_transform(y_pred)\n",
    "\n",
    "# Compute metrics\n",
    "mae = mean_absolute_error(y_test_inv, y_pred_inv)\n",
    "r2 = r2_score(y_test_inv, y_pred_inv)\n",
    "\n",
    "print(f\"MAE:  {mae:.2f} kW\")\n",
    "print(f\"R²:   {r2:.3f}\")\n"
   ]
  },
  {
   "cell_type": "markdown",
   "id": "873b50ca",
   "metadata": {},
   "source": [
    "## Feature Engineering for Multiple Feature Prediction"
   ]
  },
  {
   "cell_type": "code",
   "execution_count": 6,
   "id": "1cdd093a",
   "metadata": {},
   "outputs": [
    {
     "data": {
      "text/html": [
       "<div>\n",
       "<style scoped>\n",
       "    .dataframe tbody tr th:only-of-type {\n",
       "        vertical-align: middle;\n",
       "    }\n",
       "\n",
       "    .dataframe tbody tr th {\n",
       "        vertical-align: top;\n",
       "    }\n",
       "\n",
       "    .dataframe thead th {\n",
       "        text-align: right;\n",
       "    }\n",
       "</style>\n",
       "<table border=\"1\" class=\"dataframe\">\n",
       "  <thead>\n",
       "    <tr style=\"text-align: right;\">\n",
       "      <th></th>\n",
       "      <th>Global_active_power</th>\n",
       "    </tr>\n",
       "    <tr>\n",
       "      <th>datetime</th>\n",
       "      <th></th>\n",
       "    </tr>\n",
       "  </thead>\n",
       "  <tbody>\n",
       "    <tr>\n",
       "      <th>2006-12-16 17:00:00</th>\n",
       "      <td>4.222889</td>\n",
       "    </tr>\n",
       "    <tr>\n",
       "      <th>2006-12-16 18:00:00</th>\n",
       "      <td>3.632200</td>\n",
       "    </tr>\n",
       "    <tr>\n",
       "      <th>2006-12-16 19:00:00</th>\n",
       "      <td>3.400233</td>\n",
       "    </tr>\n",
       "    <tr>\n",
       "      <th>2006-12-16 20:00:00</th>\n",
       "      <td>3.268567</td>\n",
       "    </tr>\n",
       "    <tr>\n",
       "      <th>2006-12-16 21:00:00</th>\n",
       "      <td>3.056467</td>\n",
       "    </tr>\n",
       "  </tbody>\n",
       "</table>\n",
       "</div>"
      ],
      "text/plain": [
       "                     Global_active_power\n",
       "datetime                                \n",
       "2006-12-16 17:00:00             4.222889\n",
       "2006-12-16 18:00:00             3.632200\n",
       "2006-12-16 19:00:00             3.400233\n",
       "2006-12-16 20:00:00             3.268567\n",
       "2006-12-16 21:00:00             3.056467"
      ]
     },
     "execution_count": 6,
     "metadata": {},
     "output_type": "execute_result"
    }
   ],
   "source": [
    "df.head()"
   ]
  },
  {
   "cell_type": "code",
   "execution_count": 7,
   "id": "7eed8921",
   "metadata": {},
   "outputs": [
    {
     "data": {
      "text/html": [
       "<div>\n",
       "<style scoped>\n",
       "    .dataframe tbody tr th:only-of-type {\n",
       "        vertical-align: middle;\n",
       "    }\n",
       "\n",
       "    .dataframe tbody tr th {\n",
       "        vertical-align: top;\n",
       "    }\n",
       "\n",
       "    .dataframe thead th {\n",
       "        text-align: right;\n",
       "    }\n",
       "</style>\n",
       "<table border=\"1\" class=\"dataframe\">\n",
       "  <thead>\n",
       "    <tr style=\"text-align: right;\">\n",
       "      <th></th>\n",
       "      <th>Global_active_power</th>\n",
       "      <th>hour</th>\n",
       "      <th>day_of_week</th>\n",
       "      <th>month</th>\n",
       "      <th>is_weekend</th>\n",
       "    </tr>\n",
       "    <tr>\n",
       "      <th>datetime</th>\n",
       "      <th></th>\n",
       "      <th></th>\n",
       "      <th></th>\n",
       "      <th></th>\n",
       "      <th></th>\n",
       "    </tr>\n",
       "  </thead>\n",
       "  <tbody>\n",
       "    <tr>\n",
       "      <th>2006-12-16 17:00:00</th>\n",
       "      <td>4.222889</td>\n",
       "      <td>17</td>\n",
       "      <td>5</td>\n",
       "      <td>12</td>\n",
       "      <td>1</td>\n",
       "    </tr>\n",
       "    <tr>\n",
       "      <th>2006-12-16 18:00:00</th>\n",
       "      <td>3.632200</td>\n",
       "      <td>18</td>\n",
       "      <td>5</td>\n",
       "      <td>12</td>\n",
       "      <td>1</td>\n",
       "    </tr>\n",
       "    <tr>\n",
       "      <th>2006-12-16 19:00:00</th>\n",
       "      <td>3.400233</td>\n",
       "      <td>19</td>\n",
       "      <td>5</td>\n",
       "      <td>12</td>\n",
       "      <td>1</td>\n",
       "    </tr>\n",
       "    <tr>\n",
       "      <th>2006-12-16 20:00:00</th>\n",
       "      <td>3.268567</td>\n",
       "      <td>20</td>\n",
       "      <td>5</td>\n",
       "      <td>12</td>\n",
       "      <td>1</td>\n",
       "    </tr>\n",
       "    <tr>\n",
       "      <th>2006-12-16 21:00:00</th>\n",
       "      <td>3.056467</td>\n",
       "      <td>21</td>\n",
       "      <td>5</td>\n",
       "      <td>12</td>\n",
       "      <td>1</td>\n",
       "    </tr>\n",
       "  </tbody>\n",
       "</table>\n",
       "</div>"
      ],
      "text/plain": [
       "                     Global_active_power  hour  day_of_week  month  is_weekend\n",
       "datetime                                                                      \n",
       "2006-12-16 17:00:00             4.222889    17            5     12           1\n",
       "2006-12-16 18:00:00             3.632200    18            5     12           1\n",
       "2006-12-16 19:00:00             3.400233    19            5     12           1\n",
       "2006-12-16 20:00:00             3.268567    20            5     12           1\n",
       "2006-12-16 21:00:00             3.056467    21            5     12           1"
      ]
     },
     "execution_count": 7,
     "metadata": {},
     "output_type": "execute_result"
    }
   ],
   "source": [
    "# Create new time-based features\n",
    "df['hour'] = df.index.hour\n",
    "df['day_of_week'] = df.index.dayofweek\n",
    "df['month'] = df.index.month\n",
    "df['is_weekend'] = df['day_of_week'].isin([5, 6]).astype(int)\n",
    "\n",
    "# Optional: One-hot encode if you want\n",
    "# df = pd.get_dummies(df, columns=['hour', 'day_of_week', 'month'], drop_first=True)\n",
    "df.head()"
   ]
  },
  {
   "cell_type": "markdown",
   "id": "e5dac258",
   "metadata": {},
   "source": [
    "## Form Sequences"
   ]
  },
  {
   "cell_type": "code",
   "execution_count": 8,
   "id": "d1f19a30",
   "metadata": {},
   "outputs": [
    {
     "data": {
      "text/plain": [
       "((34565, 24, 5), (34565,))"
      ]
     },
     "execution_count": 8,
     "metadata": {},
     "output_type": "execute_result"
    }
   ],
   "source": [
    "def create_multivariate_sequences(data, period_size, target_col_index):\n",
    "    X, y = [], []\n",
    "    for i in range(len(data) - period_size):\n",
    "        X.append(data[i:i+period_size])\n",
    "        y.append(data[i+period_size][target_col_index])\n",
    "    return np.array(X), np.array(y)\n",
    "\n",
    "\n",
    "scaler = MinMaxScaler()\n",
    "data_scaled = scaler.fit_transform(df.values)\n",
    "\n",
    "\n",
    "# Create sequences with time features\n",
    "X, y = create_multivariate_sequences(data=data_scaled, period_size=24, target_col_index=0)\n",
    "\n",
    "X.shape, y.shape"
   ]
  },
  {
   "cell_type": "markdown",
   "id": "48f8b4be",
   "metadata": {},
   "source": [
    "## Split data"
   ]
  },
  {
   "cell_type": "code",
   "execution_count": 9,
   "id": "fee9aaba",
   "metadata": {},
   "outputs": [
    {
     "name": "stdout",
     "output_type": "stream",
     "text": [
      "Train: (27652, 24, 5)\n",
      "Val:   (6913, 24, 5)\n"
     ]
    }
   ],
   "source": [
    "split_ratio = 0.8\n",
    "split_index = int(len(X) * split_ratio)\n",
    "\n",
    "X_train, X_val = X[:split_index], X[split_index:]\n",
    "y_train, y_val = y[:split_index], y[split_index:]\n",
    "\n",
    "print(f\"Train: {X_train.shape}\")\n",
    "print(f\"Val:   {X_val.shape}\")\n"
   ]
  },
  {
   "cell_type": "markdown",
   "id": "f28488ce",
   "metadata": {},
   "source": [
    "## Build and fit Model"
   ]
  },
  {
   "cell_type": "code",
   "execution_count": null,
   "id": "fb45732e",
   "metadata": {},
   "outputs": [
    {
     "name": "stdout",
     "output_type": "stream",
     "text": [
      "Model: \"sequential\"\n",
      "_________________________________________________________________\n",
      " Layer (type)                Output Shape              Param #   \n",
      "=================================================================\n",
      " lstm (LSTM)                 (None, 64)                17920     \n",
      "                                                                 \n",
      " dropout (Dropout)           (None, 64)                0         \n",
      "                                                                 \n",
      " dense (Dense)               (None, 1)                 65        \n",
      "                                                                 \n",
      "=================================================================\n",
      "Total params: 17,985\n",
      "Trainable params: 17,985\n",
      "Non-trainable params: 0\n",
      "_________________________________________________________________\n"
     ]
    }
   ],
   "source": [
    "# define model architecture. Using same architecture as before to see effect of feature engineering. Though we're using more data\n",
    "lstm_model2 = Sequential([\n",
    "    LSTM(64, input_shape=(X_train.shape[1], X_train.shape[2]), return_sequences=False),\n",
    "    Dropout(0.2),\n",
    "    Dense(1)\n",
    "])\n",
    "\n",
    "# compile model\n",
    "lstm_model2.compile(loss=\"mse\", optimizer=Adam(0.001))\n",
    "lstm_model2.summary()"
   ]
  },
  {
   "cell_type": "code",
   "execution_count": 12,
   "id": "11fd0256",
   "metadata": {},
   "outputs": [
    {
     "name": "stdout",
     "output_type": "stream",
     "text": [
      "Epoch 1/50\n",
      "865/865 [==============================] - 7s 4ms/step - loss: 0.0129 - val_loss: 0.0067\n",
      "Epoch 2/50\n",
      "865/865 [==============================] - 3s 4ms/step - loss: 0.0098 - val_loss: 0.0064\n",
      "Epoch 3/50\n",
      "865/865 [==============================] - 3s 4ms/step - loss: 0.0092 - val_loss: 0.0062\n",
      "Epoch 4/50\n",
      "865/865 [==============================] - 3s 4ms/step - loss: 0.0088 - val_loss: 0.0071\n",
      "Epoch 5/50\n",
      "865/865 [==============================] - 4s 4ms/step - loss: 0.0086 - val_loss: 0.0060\n",
      "Epoch 6/50\n",
      "865/865 [==============================] - 4s 4ms/step - loss: 0.0085 - val_loss: 0.0058\n",
      "Epoch 7/50\n",
      "865/865 [==============================] - 4s 4ms/step - loss: 0.0083 - val_loss: 0.0058\n",
      "Epoch 8/50\n",
      "865/865 [==============================] - 3s 4ms/step - loss: 0.0082 - val_loss: 0.0063\n",
      "Epoch 9/50\n",
      "865/865 [==============================] - 3s 3ms/step - loss: 0.0081 - val_loss: 0.0058\n",
      "Epoch 10/50\n",
      "865/865 [==============================] - 3s 4ms/step - loss: 0.0081 - val_loss: 0.0057\n",
      "Epoch 11/50\n",
      "865/865 [==============================] - 3s 3ms/step - loss: 0.0080 - val_loss: 0.0059\n",
      "Epoch 12/50\n",
      "865/865 [==============================] - 3s 4ms/step - loss: 0.0079 - val_loss: 0.0058\n",
      "Epoch 13/50\n",
      "865/865 [==============================] - 3s 3ms/step - loss: 0.0079 - val_loss: 0.0059\n",
      "Epoch 14/50\n",
      "865/865 [==============================] - 3s 4ms/step - loss: 0.0078 - val_loss: 0.0059\n",
      "Epoch 15/50\n",
      "865/865 [==============================] - 3s 4ms/step - loss: 0.0078 - val_loss: 0.0056\n",
      "Epoch 16/50\n",
      "865/865 [==============================] - 3s 4ms/step - loss: 0.0078 - val_loss: 0.0056\n",
      "Epoch 17/50\n",
      "865/865 [==============================] - 3s 4ms/step - loss: 0.0078 - val_loss: 0.0056\n",
      "Epoch 18/50\n",
      "865/865 [==============================] - 3s 4ms/step - loss: 0.0077 - val_loss: 0.0057\n",
      "Epoch 19/50\n",
      "865/865 [==============================] - 3s 4ms/step - loss: 0.0077 - val_loss: 0.0056\n",
      "Epoch 20/50\n",
      "865/865 [==============================] - 3s 4ms/step - loss: 0.0077 - val_loss: 0.0059\n",
      "Epoch 21/50\n",
      "865/865 [==============================] - 3s 4ms/step - loss: 0.0077 - val_loss: 0.0056\n",
      "Epoch 22/50\n",
      "865/865 [==============================] - 3s 4ms/step - loss: 0.0076 - val_loss: 0.0056\n",
      "Epoch 23/50\n",
      "865/865 [==============================] - 3s 4ms/step - loss: 0.0076 - val_loss: 0.0056\n",
      "Epoch 24/50\n",
      "865/865 [==============================] - 3s 4ms/step - loss: 0.0076 - val_loss: 0.0056\n",
      "Epoch 25/50\n",
      "865/865 [==============================] - 3s 4ms/step - loss: 0.0076 - val_loss: 0.0056\n",
      "Epoch 26/50\n",
      "865/865 [==============================] - 3s 4ms/step - loss: 0.0076 - val_loss: 0.0055\n",
      "Epoch 27/50\n",
      "865/865 [==============================] - 3s 3ms/step - loss: 0.0075 - val_loss: 0.0057\n",
      "Epoch 28/50\n",
      "865/865 [==============================] - 3s 3ms/step - loss: 0.0075 - val_loss: 0.0055\n",
      "Epoch 29/50\n",
      "865/865 [==============================] - 3s 3ms/step - loss: 0.0075 - val_loss: 0.0056\n",
      "Epoch 30/50\n",
      "865/865 [==============================] - 3s 3ms/step - loss: 0.0075 - val_loss: 0.0056\n",
      "Epoch 31/50\n",
      "865/865 [==============================] - 3s 4ms/step - loss: 0.0075 - val_loss: 0.0057\n",
      "Epoch 32/50\n",
      "865/865 [==============================] - 3s 3ms/step - loss: 0.0075 - val_loss: 0.0056\n",
      "Epoch 33/50\n",
      "865/865 [==============================] - 3s 3ms/step - loss: 0.0074 - val_loss: 0.0056\n"
     ]
    }
   ],
   "source": [
    "# set early stopping\n",
    "early_stop = EarlyStopping(patience=5, restore_best_weights=True)\n",
    "\n",
    "history = lstm_model2.fit(\n",
    "    X_train, y_train,\n",
    "    validation_data=(X_val, y_val),\n",
    "    epochs=50,\n",
    "    batch_size=32,\n",
    "    callbacks=[early_stop]\n",
    ")"
   ]
  },
  {
   "cell_type": "code",
   "execution_count": 13,
   "id": "e70e1a44",
   "metadata": {},
   "outputs": [
    {
     "data": {
      "image/png": "[encoded data removed]",
      "text/plain": [
       "<Figure size 640x480 with 1 Axes>"
      ]
     },
     "metadata": {},
     "output_type": "display_data"
    }
   ],
   "source": [
    "plt.plot(history.history['loss'], label='Train Loss')\n",
    "plt.plot(history.history['val_loss'], label='Val Loss')\n",
    "plt.xlabel('Epoch')\n",
    "plt.ylabel('MSE')\n",
    "plt.legend()\n",
    "plt.title('Training vs Validation Loss')\n",
    "plt.show()\n"
   ]
  },
  {
   "cell_type": "code",
   "execution_count": null,
   "id": "ab681ef1",
   "metadata": {},
   "outputs": [],
   "source": []
  },
  {
   "cell_type": "code",
   "execution_count": 22,
   "id": "3ff9d290",
   "metadata": {},
   "outputs": [
    {
     "data": {
      "text/plain": [
       "((34541, 48, 5), (34541,))"
      ]
     },
     "execution_count": 22,
     "metadata": {},
     "output_type": "execute_result"
    }
   ],
   "source": [
    "# Use previous 48 hours for prediction\n",
    "X, y = create_multivariate_sequences(data=data_scaled, period_size=48, target_col_index=0)\n",
    "\n",
    "X.shape, y.shape"
   ]
  },
  {
   "cell_type": "code",
   "execution_count": 23,
   "id": "faa6902d",
   "metadata": {},
   "outputs": [],
   "source": [
    "split_ratio = 0.8\n",
    "split_index = int(len(X) * split_ratio)\n",
    "\n",
    "X_train, X_val = X[:split_index], X[split_index:]\n",
    "y_train, y_val = y[:split_index], y[split_index:]"
   ]
  },
  {
   "cell_type": "code",
   "execution_count": 24,
   "id": "9fd9766d",
   "metadata": {},
   "outputs": [
    {
     "name": "stdout",
     "output_type": "stream",
     "text": [
      "Model: \"sequential_3\"\n",
      "_________________________________________________________________\n",
      " Layer (type)                Output Shape              Param #   \n",
      "=================================================================\n",
      " lstm_3 (LSTM)               (None, 64)                17920     \n",
      "                                                                 \n",
      " dropout_3 (Dropout)         (None, 64)                0         \n",
      "                                                                 \n",
      " dense_3 (Dense)             (None, 1)                 65        \n",
      "                                                                 \n",
      "=================================================================\n",
      "Total params: 17,985\n",
      "Trainable params: 17,985\n",
      "Non-trainable params: 0\n",
      "_________________________________________________________________\n"
     ]
    }
   ],
   "source": [
    "# define model architecture. Using same architecture as before to see effect of feature engineering. Though we're using more data\n",
    "lstm_model3 = Sequential([\n",
    "    LSTM(64, input_shape=(X_train.shape[1], X_train.shape[2]), return_sequences=False),\n",
    "    Dropout(0.2),\n",
    "    Dense(1)\n",
    "])\n",
    "\n",
    "# compile model\n",
    "lstm_model3.compile(loss=\"mse\", optimizer=Adam(0.001))\n",
    "lstm_model3.summary()"
   ]
  },
  {
   "cell_type": "code",
   "execution_count": 25,
   "id": "a79a4589",
   "metadata": {},
   "outputs": [
    {
     "name": "stdout",
     "output_type": "stream",
     "text": [
      "Epoch 1/50\n",
      "864/864 [==============================] - 6s 5ms/step - loss: 0.0148 - val_loss: 0.0070\n",
      "Epoch 2/50\n",
      "864/864 [==============================] - 4s 5ms/step - loss: 0.0102 - val_loss: 0.0066\n",
      "Epoch 3/50\n",
      "864/864 [==============================] - 4s 5ms/step - loss: 0.0094 - val_loss: 0.0062\n",
      "Epoch 4/50\n",
      "864/864 [==============================] - 4s 5ms/step - loss: 0.0090 - val_loss: 0.0061\n",
      "Epoch 5/50\n",
      "864/864 [==============================] - 4s 5ms/step - loss: 0.0086 - val_loss: 0.0058\n",
      "Epoch 6/50\n",
      "864/864 [==============================] - 4s 5ms/step - loss: 0.0085 - val_loss: 0.0061\n",
      "Epoch 7/50\n",
      "864/864 [==============================] - 4s 5ms/step - loss: 0.0083 - val_loss: 0.0060\n",
      "Epoch 8/50\n",
      "864/864 [==============================] - 4s 5ms/step - loss: 0.0083 - val_loss: 0.0058\n",
      "Epoch 9/50\n",
      "864/864 [==============================] - 4s 5ms/step - loss: 0.0082 - val_loss: 0.0058\n",
      "Epoch 10/50\n",
      "864/864 [==============================] - 4s 5ms/step - loss: 0.0081 - val_loss: 0.0060\n",
      "Epoch 11/50\n",
      "864/864 [==============================] - 4s 5ms/step - loss: 0.0080 - val_loss: 0.0059\n",
      "Epoch 12/50\n",
      "864/864 [==============================] - 4s 5ms/step - loss: 0.0080 - val_loss: 0.0059\n",
      "Epoch 13/50\n",
      "864/864 [==============================] - 4s 5ms/step - loss: 0.0079 - val_loss: 0.0061\n",
      "Epoch 14/50\n",
      "864/864 [==============================] - 4s 5ms/step - loss: 0.0079 - val_loss: 0.0055\n",
      "Epoch 15/50\n",
      "864/864 [==============================] - 4s 5ms/step - loss: 0.0078 - val_loss: 0.0060\n",
      "Epoch 16/50\n",
      "864/864 [==============================] - 4s 5ms/step - loss: 0.0079 - val_loss: 0.0056\n",
      "Epoch 17/50\n",
      "864/864 [==============================] - 4s 5ms/step - loss: 0.0078 - val_loss: 0.0056\n",
      "Epoch 18/50\n",
      "864/864 [==============================] - 4s 5ms/step - loss: 0.0077 - val_loss: 0.0056\n",
      "Epoch 19/50\n",
      "864/864 [==============================] - 4s 5ms/step - loss: 0.0077 - val_loss: 0.0056\n"
     ]
    }
   ],
   "source": [
    "# set early stopping\n",
    "early_stop = EarlyStopping(patience=5, restore_best_weights=True)\n",
    "\n",
    "history = lstm_model3.fit(\n",
    "    X_train, y_train,\n",
    "    validation_data=(X_val, y_val),\n",
    "    epochs=50,\n",
    "    batch_size=32,\n",
    "    callbacks=[early_stop]\n",
    ")"
   ]
  },
  {
   "cell_type": "code",
   "execution_count": 26,
   "id": "00c1f765",
   "metadata": {},
   "outputs": [
    {
     "data": {
      "image/png": "[encoded data removed]",
      "text/plain": [
       "<Figure size 640x480 with 1 Axes>"
      ]
     },
     "metadata": {},
     "output_type": "display_data"
    }
   ],
   "source": [
    "plt.plot(history.history['loss'], label='Train Loss')\n",
    "plt.plot(history.history['val_loss'], label='Val Loss')\n",
    "plt.xlabel('Epoch')\n",
    "plt.ylabel('MSE')\n",
    "plt.legend()\n",
    "plt.title('Training vs Validation Loss')\n",
    "plt.show()\n"
   ]
  },
  {
   "cell_type": "markdown",
   "id": "7dc13885",
   "metadata": {},
   "source": [
    "### Attempt hyper parameter tuning"
   ]
  },
  {
   "cell_type": "code",
   "execution_count": 30,
   "id": "3944232e",
   "metadata": {},
   "outputs": [
    {
     "name": "stdout",
     "output_type": "stream",
     "text": [
      "Trial 20 Complete [00h 03m 06s]\n",
      "val_loss: 0.005963109899312258\n",
      "\n",
      "Best val_loss So Far: 0.005423416383564472\n",
      "Total elapsed time: 00h 48m 17s\n"
     ]
    }
   ],
   "source": [
    "# set up tuner\n",
    "tuner = kt.RandomSearch(\n",
    "    build_model,\n",
    "    objective='val_loss',\n",
    "    max_trials=20,  # how many models to try\n",
    "    executions_per_trial=1, \n",
    "    directory='lstm_tuning',\n",
    "    project_name='energy_forecast',\n",
    "    overwrite=True\n",
    ")\n",
    "\n",
    "# run search\n",
    "tuner.search(X_train, y_train, \n",
    "             epochs=20, \n",
    "             validation_data=(X_val, y_val),\n",
    "             batch_size=32)\n"
   ]
  },
  {
   "cell_type": "markdown",
   "id": "6c6bb558",
   "metadata": {},
   "source": [
    " looks like this didn't provide parameters to improve the model performance a lot more."
   ]
  },
  {
   "cell_type": "code",
   "execution_count": null,
   "id": "ef4ef5a8",
   "metadata": {},
   "outputs": [],
   "source": []
  },
  {
   "cell_type": "markdown",
   "id": "0cd221a7",
   "metadata": {},
   "source": [
    "## Predict Future daily usage based on previous 48h data"
   ]
  },
  {
   "cell_type": "code",
   "execution_count": 14,
   "id": "9332e8ec",
   "metadata": {},
   "outputs": [
    {
     "name": "stdout",
     "output_type": "stream",
     "text": [
      "X shape: (34517, 48, 5)\n",
      "y shape: (34517, 24)\n"
     ]
    }
   ],
   "source": [
    "# form sequences\n",
    "def create_multi_step_sequences(data, period_size, prediction_size, target_col_index):\n",
    "    X, y = [], []\n",
    "    for i in range(len(data) - period_size - prediction_size):\n",
    "        seq_x = data[i:i+period_size]\n",
    "        seq_y = data[i+period_size:i+period_size+prediction_size, target_col_index]\n",
    "        X.append(seq_x)\n",
    "        y.append(seq_y)\n",
    "    return np.array(X), np.array(y)\n",
    "\n",
    "X, y = create_multi_step_sequences(data_scaled, period_size=48, prediction_size=24, target_col_index=0)\n",
    "\n",
    "print(\"X shape:\", X.shape)  # e.g., (samples, 48, num_features)\n",
    "print(\"y shape:\", y.shape)  # e.g., (samples, 24)\n"
   ]
  },
  {
   "cell_type": "markdown",
   "id": "44d6153a",
   "metadata": {},
   "source": [
    "## Split data"
   ]
  },
  {
   "cell_type": "code",
   "execution_count": 16,
   "id": "8a50f0e3",
   "metadata": {},
   "outputs": [
    {
     "name": "stdout",
     "output_type": "stream",
     "text": [
      "Train: ((27613, 48, 5), (27613, 24))\n",
      "Val:   ((6904, 48, 5), (6904, 24))\n"
     ]
    }
   ],
   "source": [
    "split_ratio = 0.8\n",
    "split_index = int(len(X) * split_ratio)\n",
    "\n",
    "X_train, X_val = X[:split_index], X[split_index:]\n",
    "y_train, y_val = y[:split_index], y[split_index:]\n",
    "\n",
    "print(f\"Train: {X_train.shape, y_train.shape}\")\n",
    "print(f\"Val:   {X_val.shape, y_val.shape}\")"
   ]
  },
  {
   "cell_type": "markdown",
   "id": "fc6ac08b",
   "metadata": {},
   "source": [
    "## Build and Fit Model"
   ]
  },
  {
   "cell_type": "code",
   "execution_count": null,
   "id": "1d178853",
   "metadata": {},
   "outputs": [
    {
     "name": "stdout",
     "output_type": "stream",
     "text": [
      "Model: \"sequential_2\"\n",
      "_________________________________________________________________\n",
      " Layer (type)                Output Shape              Param #   \n",
      "=================================================================\n",
      " lstm_2 (LSTM)               (None, 128)               68608     \n",
      "                                                                 \n",
      " dropout_2 (Dropout)         (None, 128)               0         \n",
      "                                                                 \n",
      " dense_2 (Dense)             (None, 24)                3096      \n",
      "                                                                 \n",
      "=================================================================\n",
      "Total params: 71,704\n",
      "Trainable params: 71,704\n",
      "Non-trainable params: 0\n",
      "_________________________________________________________________\n"
     ]
    }
   ],
   "source": [
    "# define model architecture. \n",
    "lstm_model4 = Sequential([\n",
    "    LSTM(128, input_shape=(X_train.shape[1], X_train.shape[2]), return_sequences=False),\n",
    "    Dropout(0.2),\n",
    "    Dense(24)\n",
    "])\n",
    "\n",
    "# compile model\n",
    "lstm_model4.compile(loss=\"mse\", optimizer=Adam(0.001))\n",
    "lstm_model4.summary()"
   ]
  },
  {
   "cell_type": "code",
   "execution_count": null,
   "id": "1613e9b4",
   "metadata": {},
   "outputs": [
    {
     "name": "stdout",
     "output_type": "stream",
     "text": [
      "Epoch 1/50\n",
      "863/863 [==============================] - 6s 6ms/step - loss: 0.0163 - val_loss: 0.0091\n",
      "Epoch 2/50\n",
      "863/863 [==============================] - 5s 6ms/step - loss: 0.0134 - val_loss: 0.0088\n",
      "Epoch 3/50\n",
      "863/863 [==============================] - 5s 6ms/step - loss: 0.0128 - val_loss: 0.0085\n",
      "Epoch 4/50\n",
      "863/863 [==============================] - 5s 6ms/step - loss: 0.0123 - val_loss: 0.0086\n",
      "Epoch 5/50\n",
      "863/863 [==============================] - 5s 6ms/step - loss: 0.0120 - val_loss: 0.0087\n",
      "Epoch 6/50\n",
      "863/863 [==============================] - 5s 6ms/step - loss: 0.0118 - val_loss: 0.0084\n",
      "Epoch 7/50\n",
      "863/863 [==============================] - 5s 5ms/step - loss: 0.0116 - val_loss: 0.0086\n",
      "Epoch 8/50\n",
      "863/863 [==============================] - 5s 6ms/step - loss: 0.0113 - val_loss: 0.0088\n",
      "Epoch 9/50\n",
      "863/863 [==============================] - 5s 6ms/step - loss: 0.0111 - val_loss: 0.0091\n",
      "Epoch 10/50\n",
      "863/863 [==============================] - 5s 6ms/step - loss: 0.0107 - val_loss: 0.0088\n",
      "Epoch 11/50\n",
      "863/863 [==============================] - 5s 6ms/step - loss: 0.0104 - val_loss: 0.0088\n",
      "Epoch 12/50\n",
      "863/863 [==============================] - 5s 6ms/step - loss: 0.0102 - val_loss: 0.0089\n",
      "Epoch 13/50\n",
      "863/863 [==============================] - 5s 6ms/step - loss: 0.0099 - val_loss: 0.0088\n",
      "Epoch 14/50\n",
      "863/863 [==============================] - 5s 6ms/step - loss: 0.0096 - val_loss: 0.0089\n"
     ]
    }
   ],
   "source": [
    "# set early stopping\n",
    "early_stop = EarlyStopping(patience=8, restore_best_weights=True)\n",
    "\n",
    "history = lstm_model4.fit(\n",
    "    X_train, y_train,\n",
    "    validation_data=(X_val, y_val),\n",
    "    epochs=50,\n",
    "    batch_size=32,\n",
    "    callbacks=[early_stop]\n",
    ")"
   ]
  },
  {
   "cell_type": "code",
   "execution_count": null,
   "id": "e57032df",
   "metadata": {},
   "outputs": [],
   "source": []
  }
 ],
 "metadata": {
  "kernelspec": {
   "display_name": "py3-TF2",
   "language": "python",
   "name": "python3"
  },
  "language_info": {
   "codemirror_mode": {
    "name": "ipython",
    "version": 3
   },
   "file_extension": ".py",
   "mimetype": "text/x-python",
   "name": "python",
   "nbconvert_exporter": "python",
   "pygments_lexer": "ipython3",
   "version": "3.10.18"
  }
 },
 "nbformat": 4,
 "nbformat_minor": 5
}
