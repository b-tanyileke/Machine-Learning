{
 "cells": [
  {
   "cell_type": "markdown",
   "id": "76c3e986",
   "metadata": {},
   "source": [
    "# 🍅 Plant Disease Detection with Deep Learning\n",
    "\n",
    "This project focuses on detecting plant diseases using deep learning and image classification.\n",
    "\n",
    "- **Dataset**: [PlantVillage Dataset](https://data.mendeley.com/datasets/tywbtsjrjv/1), includes all 39 classes.\n",
    "- **Objective**: Build a convolutional neural network (CNN) model using **transfer learning** to classify plant leaves into their respective disease categories or as healthy.\n",
    "- **Techniques Used**:\n",
    "  - Data preprocessing and augmentation\n",
    "  - Transfer learning with pretrained CNNs ( VGG16)\n",
    "  - Model evaluation and accuracy analysis\n",
    "\n",
    "This project helps demonstrate how deep learning can be applied in agriculture to aid early disease detection and improve crop health monitoring.\n"
   ]
  },
  {
   "cell_type": "code",
   "execution_count": null,
   "id": "3761749e",
   "metadata": {},
   "outputs": [],
   "source": [
    "# import necessary libraries\n",
    "from tensorflow.keras.preprocessing.image import ImageDataGenerator\n",
    "from tensorflow.keras.applications import VGG16, MobileNetV2, InceptionV3\n",
    "from tensorflow.keras.models import Model\n",
    "from tensorflow.keras.layers import Dense, GlobalAveragePooling2D, Dropout\n",
    "# from tensorflow.keras.callbacks import EarlyStopping \n",
    "from tensorflow.keras.optimizers import Adam"
   ]
  },
  {
   "cell_type": "code",
   "execution_count": 2,
   "id": "47885d8a",
   "metadata": {},
   "outputs": [
    {
     "name": "stdout",
     "output_type": "stream",
     "text": [
      "Found 38797 images belonging to 39 classes.\n",
      "Found 11077 images belonging to 39 classes.\n",
      "Found 5574 images belonging to 39 classes.\n"
     ]
    }
   ],
   "source": [
    "# build data generator for training\n",
    "\n",
    "# normalize image and carryout data generation\n",
    "train_datagen = ImageDataGenerator(rescale=1./255,          # normalize pixel values        \n",
    "                               rotation_range=20,       # randomly rotate images by up to 20 degrees\n",
    "                               zoom_range=0.2,          # randomly zoom images\n",
    "                               horizontal_flip=True     # randomly flip images horizontally\n",
    "                               )\n",
    "\n",
    "# define data generator for validation and test sets\n",
    "datagen = ImageDataGenerator(rescale=1./255)\n",
    "\n",
    "# load training, validation and testing images from directory\n",
    "train_data = train_datagen.flow_from_directory(\"plant_leave_disease/train\",    # file path\n",
    "                                              target_size=(224, 224),               # resize images to fit transfer model input\n",
    "                                              batch_size=64,                         # process 64 images at a time, for faster training\n",
    "                                              class_mode=\"categorical\"              # one hot encode labels\n",
    "                                              )\n",
    "\n",
    "val_data = datagen.flow_from_directory(\"plant_leave_disease/val\",\n",
    "                                        target_size=(224, 224),\n",
    "                                        batch_size=64,\n",
    "                                        class_mode=\"categorical\"\n",
    "                                        )\n",
    "\n",
    "test_data = datagen.flow_from_directory(\"plant_leave_disease/test\",\n",
    "                                        target_size=(225, 225),\n",
    "                                        batch_size=64,\n",
    "                                        class_mode=\"categorical\",\n",
    "                                        shuffle=False                   # do not shuffle testing data\n",
    "                                        )"
   ]
  },
  {
   "cell_type": "markdown",
   "id": "6256657c",
   "metadata": {},
   "source": [
    "## VGG16 Models"
   ]
  },
  {
   "cell_type": "code",
   "execution_count": 8,
   "id": "e9339085",
   "metadata": {},
   "outputs": [],
   "source": [
    "# define model architecture\n",
    "base_model = VGG16(weights=\"imagenet\", include_top=False, input_shape=(224, 224, 3))\n",
    "x = base_model.output\n",
    "x = GlobalAveragePooling2D()(x)\n",
    "x = Dense(512, activation=\"relu\")(x)\n",
    "x = Dropout(0.3)(x)\n",
    "predictions = Dense(39, activation=\"softmax\")(x)\n",
    "\n",
    "model = Model(inputs=base_model.input, outputs=predictions)\n",
    "\n",
    "# freeze base model\n",
    "for layer in base_model.layers:\n",
    "    layer.trainable = False"
   ]
  },
  {
   "cell_type": "code",
   "execution_count": 9,
   "id": "845a520d",
   "metadata": {},
   "outputs": [
    {
     "name": "stdout",
     "output_type": "stream",
     "text": [
      "Model: \"model_1\"\n",
      "_________________________________________________________________\n",
      " Layer (type)                Output Shape              Param #   \n",
      "=================================================================\n",
      " input_2 (InputLayer)        [(None, 224, 224, 3)]     0         \n",
      "                                                                 \n",
      " block1_conv1 (Conv2D)       (None, 224, 224, 64)      1792      \n",
      "                                                                 \n",
      " block1_conv2 (Conv2D)       (None, 224, 224, 64)      36928     \n",
      "                                                                 \n",
      " block1_pool (MaxPooling2D)  (None, 112, 112, 64)      0         \n",
      "                                                                 \n",
      " block2_conv1 (Conv2D)       (None, 112, 112, 128)     73856     \n",
      "                                                                 \n",
      " block2_conv2 (Conv2D)       (None, 112, 112, 128)     147584    \n",
      "                                                                 \n",
      " block2_pool (MaxPooling2D)  (None, 56, 56, 128)       0         \n",
      "                                                                 \n",
      " block3_conv1 (Conv2D)       (None, 56, 56, 256)       295168    \n",
      "                                                                 \n",
      " block3_conv2 (Conv2D)       (None, 56, 56, 256)       590080    \n",
      "                                                                 \n",
      " block3_conv3 (Conv2D)       (None, 56, 56, 256)       590080    \n",
      "                                                                 \n",
      " block3_pool (MaxPooling2D)  (None, 28, 28, 256)       0         \n",
      "                                                                 \n",
      " block4_conv1 (Conv2D)       (None, 28, 28, 512)       1180160   \n",
      "                                                                 \n",
      " block4_conv2 (Conv2D)       (None, 28, 28, 512)       2359808   \n",
      "                                                                 \n",
      " block4_conv3 (Conv2D)       (None, 28, 28, 512)       2359808   \n",
      "                                                                 \n",
      " block4_pool (MaxPooling2D)  (None, 14, 14, 512)       0         \n",
      "                                                                 \n",
      " block5_conv1 (Conv2D)       (None, 14, 14, 512)       2359808   \n",
      "                                                                 \n",
      " block5_conv2 (Conv2D)       (None, 14, 14, 512)       2359808   \n",
      "                                                                 \n",
      " block5_conv3 (Conv2D)       (None, 14, 14, 512)       2359808   \n",
      "                                                                 \n",
      " block5_pool (MaxPooling2D)  (None, 7, 7, 512)         0         \n",
      "                                                                 \n",
      " global_average_pooling2d_1   (None, 512)              0         \n",
      " (GlobalAveragePooling2D)                                        \n",
      "                                                                 \n",
      " dense_2 (Dense)             (None, 512)               262656    \n",
      "                                                                 \n",
      " dropout_1 (Dropout)         (None, 512)               0         \n",
      "                                                                 \n",
      " dense_3 (Dense)             (None, 39)                20007     \n",
      "                                                                 \n",
      "=================================================================\n",
      "Total params: 14,997,351\n",
      "Trainable params: 282,663\n",
      "Non-trainable params: 14,714,688\n",
      "_________________________________________________________________\n"
     ]
    }
   ],
   "source": [
    "# check model summary\n",
    "model.summary()"
   ]
  },
  {
   "cell_type": "code",
   "execution_count": null,
   "id": "76764dd7",
   "metadata": {},
   "outputs": [],
   "source": []
  },
  {
   "cell_type": "code",
   "execution_count": 10,
   "id": "ed5b32af",
   "metadata": {},
   "outputs": [
    {
     "name": "stdout",
     "output_type": "stream",
     "text": [
      "Epoch 1/5\n",
      "607/607 [==============================] - 1645s 3s/step - loss: 2.7815 - accuracy: 0.2958 - val_loss: 2.1182 - val_accuracy: 0.4811\n",
      "Epoch 2/5\n",
      "607/607 [==============================] - 295s 485ms/step - loss: 1.8621 - accuracy: 0.5343 - val_loss: 1.4925 - val_accuracy: 0.6380\n",
      "Epoch 3/5\n",
      "607/607 [==============================] - 297s 490ms/step - loss: 1.4284 - accuracy: 0.6330 - val_loss: 1.1668 - val_accuracy: 0.7089\n",
      "Epoch 4/5\n",
      "607/607 [==============================] - 568s 936ms/step - loss: 1.1780 - accuracy: 0.6845 - val_loss: 0.9662 - val_accuracy: 0.7523\n",
      "Epoch 5/5\n",
      "607/607 [==============================] - 550s 906ms/step - loss: 1.0182 - accuracy: 0.7203 - val_loss: 0.8355 - val_accuracy: 0.7819\n"
     ]
    },
    {
     "data": {
      "text/plain": [
       "<keras.callbacks.History at 0x127fa82e950>"
      ]
     },
     "execution_count": 10,
     "metadata": {},
     "output_type": "execute_result"
    }
   ],
   "source": [
    "# compile model\n",
    "model.compile(optimizer=Adam(0.0001), loss='categorical_crossentropy', metrics=['accuracy'])\n",
    "\n",
    "# define early stoppage parameters\n",
    "#early_stopping = EarlyStopping(monitor=\"val_loss\", patience=8)\n",
    "\n",
    "# fit model on training data. set epoch to 5\n",
    "model.fit(train_data, validation_data=val_data, epochs=5)\n",
    "\n",
    "# uncomment for more epochs and early stopping\n",
    "#model.fit(train_data, validation_data=val_data, epochs=100, callbacks=[early_stopping])"
   ]
  },
  {
   "cell_type": "code",
   "execution_count": 11,
   "id": "aadd2545",
   "metadata": {},
   "outputs": [
    {
     "name": "stdout",
     "output_type": "stream",
     "text": [
      "88/88 [==============================] - 37s 414ms/step - loss: 0.8343 - accuracy: 0.7824\n",
      "Test Accuracy: 78.24%\n"
     ]
    }
   ],
   "source": [
    "loss, accuracy = model.evaluate(test_data)\n",
    "print(f\"Test Accuracy: {accuracy * 100:.2f}%\")"
   ]
  },
  {
   "cell_type": "markdown",
   "id": "031c8d92",
   "metadata": {},
   "source": [
    "## VGG16 using last few layers"
   ]
  },
  {
   "cell_type": "code",
   "execution_count": 3,
   "id": "b9a8bdc7",
   "metadata": {},
   "outputs": [],
   "source": [
    "# define model architecture\n",
    "base_model = VGG16(weights=\"imagenet\", include_top=False, input_shape=(224, 224, 3))\n",
    "x = base_model.output\n",
    "x = GlobalAveragePooling2D()(x)\n",
    "x = Dense(512, activation=\"relu\")(x)\n",
    "x = Dropout(0.3)(x)\n",
    "predictions = Dense(39, activation=\"softmax\")(x)\n",
    "\n",
    "vgg_model2 = Model(inputs=base_model.input, outputs=predictions)\n",
    "\n",
    "# freeze base model\n",
    "for layer in base_model.layers:\n",
    "    layer.trainable = False\n",
    "\n",
    "for layer in base_model.layers[-2:]:\n",
    "    layer.trainable = True"
   ]
  },
  {
   "cell_type": "code",
   "execution_count": 4,
   "id": "1b63c4f0",
   "metadata": {},
   "outputs": [
    {
     "name": "stdout",
     "output_type": "stream",
     "text": [
      "Model: \"model\"\n",
      "_________________________________________________________________\n",
      " Layer (type)                Output Shape              Param #   \n",
      "=================================================================\n",
      " input_1 (InputLayer)        [(None, 224, 224, 3)]     0         \n",
      "                                                                 \n",
      " block1_conv1 (Conv2D)       (None, 224, 224, 64)      1792      \n",
      "                                                                 \n",
      " block1_conv2 (Conv2D)       (None, 224, 224, 64)      36928     \n",
      "                                                                 \n",
      " block1_pool (MaxPooling2D)  (None, 112, 112, 64)      0         \n",
      "                                                                 \n",
      " block2_conv1 (Conv2D)       (None, 112, 112, 128)     73856     \n",
      "                                                                 \n",
      " block2_conv2 (Conv2D)       (None, 112, 112, 128)     147584    \n",
      "                                                                 \n",
      " block2_pool (MaxPooling2D)  (None, 56, 56, 128)       0         \n",
      "                                                                 \n",
      " block3_conv1 (Conv2D)       (None, 56, 56, 256)       295168    \n",
      "                                                                 \n",
      " block3_conv2 (Conv2D)       (None, 56, 56, 256)       590080    \n",
      "                                                                 \n",
      " block3_conv3 (Conv2D)       (None, 56, 56, 256)       590080    \n",
      "                                                                 \n",
      " block3_pool (MaxPooling2D)  (None, 28, 28, 256)       0         \n",
      "                                                                 \n",
      " block4_conv1 (Conv2D)       (None, 28, 28, 512)       1180160   \n",
      "                                                                 \n",
      " block4_conv2 (Conv2D)       (None, 28, 28, 512)       2359808   \n",
      "                                                                 \n",
      " block4_conv3 (Conv2D)       (None, 28, 28, 512)       2359808   \n",
      "                                                                 \n",
      " block4_pool (MaxPooling2D)  (None, 14, 14, 512)       0         \n",
      "                                                                 \n",
      " block5_conv1 (Conv2D)       (None, 14, 14, 512)       2359808   \n",
      "                                                                 \n",
      " block5_conv2 (Conv2D)       (None, 14, 14, 512)       2359808   \n",
      "                                                                 \n",
      " block5_conv3 (Conv2D)       (None, 14, 14, 512)       2359808   \n",
      "                                                                 \n",
      " block5_pool (MaxPooling2D)  (None, 7, 7, 512)         0         \n",
      "                                                                 \n",
      " global_average_pooling2d (G  (None, 512)              0         \n",
      " lobalAveragePooling2D)                                          \n",
      "                                                                 \n",
      " dense (Dense)               (None, 512)               262656    \n",
      "                                                                 \n",
      " dropout (Dropout)           (None, 512)               0         \n",
      "                                                                 \n",
      " dense_1 (Dense)             (None, 39)                20007     \n",
      "                                                                 \n",
      "=================================================================\n",
      "Total params: 14,997,351\n",
      "Trainable params: 2,642,471\n",
      "Non-trainable params: 12,354,880\n",
      "_________________________________________________________________\n"
     ]
    }
   ],
   "source": [
    "vgg_model2.summary()"
   ]
  },
  {
   "cell_type": "code",
   "execution_count": 5,
   "id": "197ce814",
   "metadata": {},
   "outputs": [
    {
     "name": "stdout",
     "output_type": "stream",
     "text": [
      "Epoch 1/5\n",
      "607/607 [==============================] - 508s 821ms/step - loss: 1.4069 - accuracy: 0.6242 - val_loss: 0.5681 - val_accuracy: 0.8398\n",
      "Epoch 2/5\n",
      "607/607 [==============================] - 365s 600ms/step - loss: 0.5865 - accuracy: 0.8274 - val_loss: 0.3621 - val_accuracy: 0.8890\n",
      "Epoch 3/5\n",
      "607/607 [==============================] - 275s 453ms/step - loss: 0.4371 - accuracy: 0.8658 - val_loss: 0.3020 - val_accuracy: 0.9054\n",
      "Epoch 4/5\n",
      "607/607 [==============================] - 285s 469ms/step - loss: 0.3640 - accuracy: 0.8879 - val_loss: 0.2674 - val_accuracy: 0.9211\n",
      "Epoch 5/5\n",
      "607/607 [==============================] - 298s 490ms/step - loss: 0.3211 - accuracy: 0.8990 - val_loss: 0.2280 - val_accuracy: 0.9289\n"
     ]
    },
    {
     "data": {
      "text/plain": [
       "<keras.callbacks.History at 0x203d252d600>"
      ]
     },
     "execution_count": 5,
     "metadata": {},
     "output_type": "execute_result"
    }
   ],
   "source": [
    "# compile model\n",
    "vgg_model2.compile(optimizer=Adam(0.0001), loss='categorical_crossentropy', metrics=['accuracy'])\n",
    "\n",
    "# define early stoppage parameters\n",
    "#early_stopping = EarlyStopping(monitor=\"val_loss\", patience=8)\n",
    "\n",
    "# fit model on training data. set epoch to 5\n",
    "vgg_model2.fit(train_data, validation_data=val_data, epochs=5)\n",
    "\n",
    "# uncomment for more epochs and early stopping\n",
    "#model.fit(train_data, validation_data=val_data, epochs=100, callbacks=[early_stopping])"
   ]
  },
  {
   "cell_type": "code",
   "execution_count": 7,
   "id": "a8a0a5c9",
   "metadata": {},
   "outputs": [
    {
     "name": "stdout",
     "output_type": "stream",
     "text": [
      "88/88 [==============================] - 19s 202ms/step - loss: 0.2220 - accuracy: 0.9351\n",
      "Test Accuracy: 93.51%\n"
     ]
    }
   ],
   "source": [
    "loss, accuracy = vgg_model2.evaluate(test_data)\n",
    "print(f\"Test Accuracy: {accuracy * 100:.2f}%\")"
   ]
  },
  {
   "cell_type": "code",
   "execution_count": null,
   "id": "5c0f57f3",
   "metadata": {},
   "outputs": [],
   "source": []
  },
  {
   "cell_type": "code",
   "execution_count": null,
   "id": "6e5b948b",
   "metadata": {},
   "outputs": [],
   "source": []
  }
 ],
 "metadata": {
  "kernelspec": {
   "display_name": "py3-TF2",
   "language": "python",
   "name": "python3"
  },
  "language_info": {
   "codemirror_mode": {
    "name": "ipython",
    "version": 3
   },
   "file_extension": ".py",
   "mimetype": "text/x-python",
   "name": "python",
   "nbconvert_exporter": "python",
   "pygments_lexer": "ipython3",
   "version": "3.10.18"
  }
 },
 "nbformat": 4,
 "nbformat_minor": 5
}
